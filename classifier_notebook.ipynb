{
 "cells": [
  {
   "cell_type": "markdown",
   "metadata": {},
   "source": [
    "# Training and Testing Classifiers with Watson Visual Recognition\n",
    "\n",
    "First,  we import a bunch of things we're going to need.  You can install these with `pip`.  I recommend you create\n",
    "a virtual environment. \n",
    "\n",
    "If you are using Anaconda,  you can do `conda create --name watson_vr python=3`\n",
    "\n",
    "This will create a new environment named `watson_vr` which you can activate with `source activate watson_vr`\n",
    "and then you can run `pip install -r requirements.txt` to get all the libraries installed."
   ]
  },
  {
   "cell_type": "code",
   "execution_count": 1,
   "metadata": {
    "collapsed": true
   },
   "outputs": [],
   "source": [
    "from sklearn.model_selection import train_test_split"
   ]
  },
  {
   "cell_type": "code",
   "execution_count": 2,
   "metadata": {
    "collapsed": true
   },
   "outputs": [],
   "source": [
    "from watson_developer_cloud import VisualRecognitionV3"
   ]
  },
  {
   "cell_type": "code",
   "execution_count": 3,
   "metadata": {
    "collapsed": true
   },
   "outputs": [],
   "source": [
    "from zipfile import ZipFile\n",
    "import os\n",
    "from tempfile import TemporaryDirectory\n",
    "import matplotlib.pyplot as plt\n",
    "import numpy as np\n",
    "import pandas\n",
    "from time import sleep\n",
    "import itertools"
   ]
  },
  {
   "cell_type": "markdown",
   "metadata": {},
   "source": [
    "## You'll need a Visual Recognition API Key\n",
    "\n",
    "You can get that from Bluemix after you activate the service."
   ]
  },
  {
   "cell_type": "code",
   "execution_count": 4,
   "metadata": {
    "collapsed": true
   },
   "outputs": [],
   "source": [
    "API_KEY = os.getenv('API_KEY') or 'ENTER YOUR API KEY HERE'"
   ]
  },
  {
   "cell_type": "markdown",
   "metadata": {},
   "source": [
    "## This is just some helper code\n",
    "\n",
    "The following cell sets up some helper code I'll be using in this notebook.  "
   ]
  },
  {
   "cell_type": "code",
   "execution_count": 5,
   "metadata": {
    "collapsed": true
   },
   "outputs": [],
   "source": [
    "class PositiveClass:\n",
    "    def __init__(self, class_name, tmpdir, urls):\n",
    "        self.tmpdir = tmpdir\n",
    "        self.class_name = class_name\n",
    "        self.urls = urls\n",
    "        \n",
    "    def name(self):\n",
    "        return self.class_name\n",
    "\n",
    "    def path(self):\n",
    "        return os.path.join(self.tmpdir.name,\n",
    "                            \"{0}_positive_examples.zip\".format(self.name()))\n",
    "        \n",
    "    def zipfile(self):\n",
    "        output_zipfile_name = self.path()\n",
    "        if os.path.isfile(output_zipfile_name):\n",
    "            return output_zipfile_name\n",
    "        \n",
    "        with ZipFile(output_zipfile_name, mode=\"w\") as output_zip:\n",
    "            for image in self.urls:\n",
    "                with open(image, 'rb') as imagefile:\n",
    "                    arc_name = os.path.basename(image)\n",
    "                    output_zip.writestr(arc_name, imagefile.read())\n",
    "        return output_zipfile_name\n",
    "\n",
    "class NegativeClass(PositiveClass):\n",
    "    def __init__(self, tmpdir, urls):\n",
    "        super().__init__(\"negative\", tmpdir, urls)\n",
    "        \n",
    "    def path(self):\n",
    "        return os.path.join(self.tmpdir.name,\"negative_examples.zip\")\n",
    "    \n",
    "def desc_stats(numbers):\n",
    "    return { 'std dev': np.std(numbers),\n",
    "    'mean': np.mean(numbers),\n",
    "     'min': np.min(numbers),\n",
    "     'max': np.max(numbers)\n",
    "    }"
   ]
  },
  {
   "cell_type": "code",
   "execution_count": 6,
   "metadata": {
    "collapsed": true
   },
   "outputs": [],
   "source": [
    "tempDir = TemporaryDirectory()"
   ]
  },
  {
   "cell_type": "code",
   "execution_count": 7,
   "metadata": {},
   "outputs": [
    {
     "data": {
      "text/plain": [
       "['beagle', 'goldenretriever', 'negatives']"
      ]
     },
     "execution_count": 7,
     "metadata": {},
     "output_type": "execute_result"
    }
   ],
   "source": [
    "os.listdir(\"images\")"
   ]
  },
  {
   "cell_type": "markdown",
   "metadata": {},
   "source": [
    "## The Magic Starts Here\n",
    "\n",
    "It's not really magic.  The heavy lifting here is done by a function from [scikit-learn](http://scikit-learn.org/stable/modules/generated/sklearn.model_selection.train_test_split.html) that splist an array of objects into \n",
    "two arrays.  I just use the default, which is a `75/25` split (meaning 75% of the items are in the `train` set and 25% are in the test set).  This is all nicely randomized so your images are bucketed nicely.\n",
    "\n",
    "For this discussion, I'm using images from the [Watson Visual Recognition Demo](https://visual-recognition-demo.mybluemix.net) and I'm going to create a custom classifier with two classes:  `golden` and `beagle` which contain images of Golden Retrievers and Beagles respectively.  I'm also going to be supplying a set of images that are not in any of those two classes (See [the docs](https://www.ibm.com/watson/developercloud/doc/visual-recognition/customizing.html) for real details about how this all works).  "
   ]
  },
  {
   "cell_type": "code",
   "execution_count": 8,
   "metadata": {
    "collapsed": true
   },
   "outputs": [],
   "source": [
    "#http://scikit-learn.org/stable/modules/generated/sklearn.model_selection.train_test_split.html\n",
    "\n",
    "base_path_gr = \"./images/goldenretriever/\"\n",
    "train_gr, test_gr = train_test_split(os.listdir(base_path_gr))\n",
    "test_gr_images = [os.path.join(base_path_gr,x) for x in test_gr]\n",
    "\n",
    "base_path_beagle = \"./images/beagle/\"\n",
    "train_beagle, test_beagle = train_test_split(os.listdir(base_path_beagle))\n",
    "test_beagle_images = [os.path.join(base_path_beagle,x) for x in test_beagle]\n",
    "\n",
    "base_path_negative = \"./images/negatives/\"\n",
    "train_negative = os.listdir(base_path_negative)\n",
    "\n",
    "gr = PositiveClass(\"golden\", tempDir, [os.path.join(base_path_gr,x) for x in train_gr])\n",
    "beagle = PositiveClass(\"beagle\", tempDir, [os.path.join(base_path_beagle,x) for x in train_beagle])\n",
    "\n",
    "negative = NegativeClass(tempDir, [os.path.join(base_path_negative,x) for x in train_negative])"
   ]
  },
  {
   "cell_type": "markdown",
   "metadata": {},
   "source": [
    "Now we instantiate a client class and list the classifiers available just to make sure we can connect and everything is good.  "
   ]
  },
  {
   "cell_type": "code",
   "execution_count": 9,
   "metadata": {},
   "outputs": [
    {
     "data": {
      "text/plain": [
       "{'classifiers': [{'classifier_id': 'DogBreeds_873033721',\n",
       "   'name': 'Dog Breeds',\n",
       "   'status': 'ready'},\n",
       "  {'classifier_id': 'POC_one_2092200629',\n",
       "   'name': 'POC_one',\n",
       "   'status': 'failed'},\n",
       "  {'classifier_id': 'InsuranceClaims_1476531008',\n",
       "   'name': 'Insurance Claims',\n",
       "   'status': 'failed'},\n",
       "  {'classifier_id': 'InsuranceClaims_17941643',\n",
       "   'name': 'Insurance Claims',\n",
       "   'status': 'failed'},\n",
       "  {'classifier_id': 'POC_four_1684570840',\n",
       "   'name': 'POC_four',\n",
       "   'status': 'ready'},\n",
       "  {'classifier_id': 'POC_two_339503406', 'name': 'POC_two', 'status': 'ready'},\n",
       "  {'classifier_id': 'openthedoor_63903526',\n",
       "   'name': 'openthedoor',\n",
       "   'status': 'ready'},\n",
       "  {'classifier_id': 'DrinkCups_259744016',\n",
       "   'name': 'Drink Cups',\n",
       "   'status': 'ready'},\n",
       "  {'classifier_id': 'A_1693693550', 'name': 'A', 'status': 'ready'},\n",
       "  {'classifier_id': 'ISTest_151456679', 'name': 'IS Test', 'status': 'ready'},\n",
       "  {'classifier_id': 'SatelliteImagery_464026321',\n",
       "   'name': 'Satellite Imagery',\n",
       "   'status': 'ready'},\n",
       "  {'classifier_id': 'DogBreeds_1965866994',\n",
       "   'name': 'Dog Breeds',\n",
       "   'status': 'ready'},\n",
       "  {'classifier_id': 'integrationtestjavasdk_926252309',\n",
       "   'name': 'integration-test-java-sdk',\n",
       "   'status': 'ready'},\n",
       "  {'classifier_id': 'Drinks_346666719', 'name': 'Drinks', 'status': 'ready'},\n",
       "  {'classifier_id': 'Plant_1628460987', 'name': 'Plant', 'status': 'ready'},\n",
       "  {'classifier_id': 'POC_three_2109048978',\n",
       "   'name': 'POC_three',\n",
       "   'status': 'ready'},\n",
       "  {'classifier_id': 'MoleskineTypes_1384714916',\n",
       "   'name': 'Moleskine Types',\n",
       "   'status': 'ready'},\n",
       "  {'classifier_id': 'integrationtestjavasdk_1713797621',\n",
       "   'name': 'integration-test-java-sdk',\n",
       "   'status': 'ready'},\n",
       "  {'classifier_id': 'DogBreeds_165574603',\n",
       "   'name': 'Dog Breeds',\n",
       "   'status': 'ready'},\n",
       "  {'classifier_id': 'DogBreeds_1679443197',\n",
       "   'name': 'Dog Breeds',\n",
       "   'status': 'ready'},\n",
       "  {'classifier_id': 'integrationtestjavasdk_1345258259',\n",
       "   'name': 'integration-test-java-sdk',\n",
       "   'status': 'ready'},\n",
       "  {'classifier_id': 'openthedoor_2143884776',\n",
       "   'name': 'openthedoor',\n",
       "   'status': 'failed'},\n",
       "  {'classifier_id': 'InsuranceClaims_677951496',\n",
       "   'name': 'Insurance Claims',\n",
       "   'status': 'failed'},\n",
       "  {'classifier_id': 'DogBreeds_766159502',\n",
       "   'name': 'Dog Breeds',\n",
       "   'status': 'ready'}]}"
      ]
     },
     "execution_count": 9,
     "metadata": {},
     "output_type": "execute_result"
    }
   ],
   "source": [
    "vr = VisualRecognitionV3(version='2017-01-31', api_key=API_KEY)\n",
    "vr.list_classifiers()"
   ]
  },
  {
   "cell_type": "markdown",
   "metadata": {},
   "source": [
    "## Training\n",
    "\n",
    "To train a classifier, we use a zipfile of the training files and submit that to the service. \n",
    "\n",
    "Training takes a while,  so don't be surprised and while you're waiting you can See [the docs](https://www.ibm.com/watson/developercloud/doc/visual-recognition/customizing.html)."
   ]
  },
  {
   "cell_type": "code",
   "execution_count": 10,
   "metadata": {
    "collapsed": true
   },
   "outputs": [],
   "source": [
    "grzip = open(gr.zipfile(), 'rb')\n",
    "beaglezip = open(beagle.zipfile(), 'rb')\n",
    "negativezip = open(negative.zipfile(), 'rb')\n",
    "\n",
    "created_id = vr.create_classifier(golden_positive_examples=grzip,\n",
    "                                  beagle_positive_examples=beaglezip,\n",
    "                                  negative_examples=negativezip,\n",
    "                                  name=\"POC_four\")"
   ]
  },
  {
   "cell_type": "markdown",
   "metadata": {},
   "source": [
    "Even though training takes a while, we get back the classifier ID immediately and will poll the service to find out when the training has finished.  "
   ]
  },
  {
   "cell_type": "code",
   "execution_count": 14,
   "metadata": {},
   "outputs": [
    {
     "data": {
      "text/plain": [
       "{'classes': [{'class': 'golden'}, {'class': 'beagle'}],\n",
       " 'classifier_id': 'POC_four_640205389',\n",
       " 'created': '2017-05-15T18:33:30.222Z',\n",
       " 'name': 'POC_four',\n",
       " 'owner': '58b61352-678c-44d1-9f40-40edf4ea8d19',\n",
       " 'status': 'ready'}"
      ]
     },
     "execution_count": 14,
     "metadata": {},
     "output_type": "execute_result"
    }
   ],
   "source": [
    "my_classifier_id = created_id[\"classifier_id\"]\n",
    "\n",
    "vr.get_classifier(created_id[\"classifier_id\"])"
   ]
  },
  {
   "cell_type": "markdown",
   "metadata": {},
   "source": [
    "## Testing\n",
    "\n",
    "Once the classifier is training, we can test our images.  Since we have a batch of test images already from splitting the data earlier, we can just feed each one of these images to the system and get the results.  This will also take some time to complete.  \n",
    "\n",
    "This call will use both the custom classier created earlier and the default classifier that's always there.   In many applications, the tags returned can be used to infer other information about whats in the image (though that is not covered in this notebook).\n",
    "\n",
    "In these tests I'm passing in a `threshold` value of `0.8`.  This means only classes with a score `>` `0.8` will be returned. The default threshold is `0.5` but I wanted to limit the data returned so it shows up cleaning in the datatable below. "
   ]
  },
  {
   "cell_type": "code",
   "execution_count": 15,
   "metadata": {},
   "outputs": [
    {
     "name": "stdout",
     "output_type": "stream",
     "text": [
      "CPU times: user 215 ms, sys: 16.4 ms, total: 232 ms\n",
      "Wall time: 37.5 s\n"
     ]
    }
   ],
   "source": [
    "%%time\n",
    "test_results = []\n",
    "\n",
    "test_image_files = test_beagle_images\n",
    "\n",
    "for image_file in test_image_files:\n",
    "    with open(image_file,'rb') as ifile:\n",
    "        result = vr.classify(images_file=ifile, classifier_ids=[my_classifier_id,'default'],threshold=0.8)\n",
    "        test_results.append(result)"
   ]
  },
  {
   "cell_type": "code",
   "execution_count": 16,
   "metadata": {},
   "outputs": [
    {
     "name": "stdout",
     "output_type": "stream",
     "text": [
      "{'custom_classes': 2, 'images': [{'classifiers': [{'classes': [{'class': 'beagle', 'score': 0.922255}], 'classifier_id': 'POC_four_640205389', 'name': 'POC_four'}, {'classes': [{'class': 'hound dog', 'score': 0.91, 'type_hierarchy': '/domestic animal/hound dog'}, {'class': 'dog', 'score': 0.974}, {'class': 'domestic animal', 'score': 0.974}, {'class': 'animal', 'score': 0.974}, {'class': 'reddish orange color', 'score': 0.886}], 'classifier_id': 'default', 'name': 'default'}], 'image': './images/beagle/Beagle_745.jpg'}], 'images_processed': 1}\n"
     ]
    },
    {
     "data": {
      "image/jpeg": "[encoded data removed]",
      "text/plain": [
       "<IPython.core.display.Image object>"
      ]
     },
     "execution_count": 16,
     "metadata": {},
     "output_type": "execute_result"
    }
   ],
   "source": [
    "# this is just an example of how to classify a single image\n",
    "from IPython.display import Image\n",
    "with open(test_image_files[0], 'rb') as ifile:\n",
    "    print(vr.classify(images_file=ifile, classifier_ids=[my_classifier_id,'default'],threshold=0.8))\n",
    "Image(filename=test_image_files[0]) "
   ]
  },
  {
   "cell_type": "markdown",
   "metadata": {},
   "source": [
    "Now that we've got our results,  this code will flatten the results for visualization.  The service returns a pretty dense JSON payload,  I'm only going to look at the classes for this example."
   ]
  },
  {
   "cell_type": "code",
   "execution_count": 17,
   "metadata": {},
   "outputs": [],
   "source": [
    "class_scores = {}\n",
    "# DANGER WILL ROBINSON:  the following is a set of\n",
    "# actions that flatten the list of classes returned by the classifiers\n",
    "scores_list = list(itertools.chain(*[m['classes'] \n",
    "                       for m \n",
    "                       in list(itertools.chain(*[z[0]['classifiers'] \n",
    "                                                 for z \n",
    "                                                 in [u['images'] \n",
    "                                                     for u \n",
    "                                                     in test_results]]))]))\n",
    "for y in scores_list:\n",
    "    if y['class'] in class_scores:\n",
    "        class_scores[y['class']].append(y['score'])\n",
    "    else:\n",
    "        class_scores[y['class']]=[y['score']]"
   ]
  },
  {
   "cell_type": "markdown",
   "metadata": {},
   "source": [
    "Now that we have flattened the data,  you'll see a plot of the scores and a dataframe of the score results.  It's important to remember that the `score` is not a confidence score, or a percentage.  However, we use the scores for the threshold. "
   ]
  },
  {
   "cell_type": "code",
   "execution_count": 18,
   "metadata": {},
   "outputs": [
    {
     "data": {
      "image/png": "[encoded data removed]",
      "text/plain": [
       "<matplotlib.figure.Figure at 0x11237f588>"
      ]
     },
     "metadata": {},
     "output_type": "display_data"
    },
    {
     "data": {
      "text/html": [
       "<div>\n",
       "<style>\n",
       "    .dataframe thead tr:only-child th {\n",
       "        text-align: right;\n",
       "    }\n",
       "\n",
       "    .dataframe thead th {\n",
       "        text-align: left;\n",
       "    }\n",
       "\n",
       "    .dataframe tbody tr th {\n",
       "        vertical-align: top;\n",
       "    }\n",
       "</style>\n",
       "<table border=\"1\" class=\"dataframe\">\n",
       "  <thead>\n",
       "    <tr style=\"text-align: right;\">\n",
       "      <th></th>\n",
       "      <th>animal</th>\n",
       "      <th>azure color</th>\n",
       "      <th>beagle</th>\n",
       "      <th>beagle dog</th>\n",
       "      <th>chestnut color</th>\n",
       "      <th>dog</th>\n",
       "      <th>domestic animal</th>\n",
       "      <th>foxhound dog</th>\n",
       "      <th>hound dog</th>\n",
       "      <th>light brown color</th>\n",
       "      <th>reddish orange color</th>\n",
       "      <th>tan color</th>\n",
       "    </tr>\n",
       "  </thead>\n",
       "  <tbody>\n",
       "    <tr>\n",
       "      <th>max</th>\n",
       "      <td>0.980000</td>\n",
       "      <td>1.0000</td>\n",
       "      <td>0.928318</td>\n",
       "      <td>0.960000</td>\n",
       "      <td>0.926</td>\n",
       "      <td>0.980000</td>\n",
       "      <td>0.980000</td>\n",
       "      <td>0.802</td>\n",
       "      <td>0.91</td>\n",
       "      <td>0.9980</td>\n",
       "      <td>0.886</td>\n",
       "      <td>0.997000</td>\n",
       "    </tr>\n",
       "    <tr>\n",
       "      <th>mean</th>\n",
       "      <td>0.961750</td>\n",
       "      <td>0.9345</td>\n",
       "      <td>0.897216</td>\n",
       "      <td>0.904600</td>\n",
       "      <td>0.926</td>\n",
       "      <td>0.961583</td>\n",
       "      <td>0.961667</td>\n",
       "      <td>0.802</td>\n",
       "      <td>0.91</td>\n",
       "      <td>0.9305</td>\n",
       "      <td>0.886</td>\n",
       "      <td>0.956500</td>\n",
       "    </tr>\n",
       "    <tr>\n",
       "      <th>min</th>\n",
       "      <td>0.941000</td>\n",
       "      <td>0.8690</td>\n",
       "      <td>0.844382</td>\n",
       "      <td>0.838000</td>\n",
       "      <td>0.926</td>\n",
       "      <td>0.941000</td>\n",
       "      <td>0.941000</td>\n",
       "      <td>0.802</td>\n",
       "      <td>0.91</td>\n",
       "      <td>0.8630</td>\n",
       "      <td>0.886</td>\n",
       "      <td>0.876000</td>\n",
       "    </tr>\n",
       "    <tr>\n",
       "      <th>std dev</th>\n",
       "      <td>0.010449</td>\n",
       "      <td>0.0655</td>\n",
       "      <td>0.024995</td>\n",
       "      <td>0.042589</td>\n",
       "      <td>0.000</td>\n",
       "      <td>0.010508</td>\n",
       "      <td>0.010491</td>\n",
       "      <td>0.000</td>\n",
       "      <td>0.00</td>\n",
       "      <td>0.0675</td>\n",
       "      <td>0.000</td>\n",
       "      <td>0.041708</td>\n",
       "    </tr>\n",
       "  </tbody>\n",
       "</table>\n",
       "</div>"
      ],
      "text/plain": [
       "           animal  azure color    beagle  beagle dog  chestnut color  \\\n",
       "max      0.980000       1.0000  0.928318    0.960000           0.926   \n",
       "mean     0.961750       0.9345  0.897216    0.904600           0.926   \n",
       "min      0.941000       0.8690  0.844382    0.838000           0.926   \n",
       "std dev  0.010449       0.0655  0.024995    0.042589           0.000   \n",
       "\n",
       "              dog  domestic animal  foxhound dog  hound dog  \\\n",
       "max      0.980000         0.980000         0.802       0.91   \n",
       "mean     0.961583         0.961667         0.802       0.91   \n",
       "min      0.941000         0.941000         0.802       0.91   \n",
       "std dev  0.010508         0.010491         0.000       0.00   \n",
       "\n",
       "         light brown color  reddish orange color  tan color  \n",
       "max                 0.9980                 0.886   0.997000  \n",
       "mean                0.9305                 0.886   0.956500  \n",
       "min                 0.8630                 0.886   0.876000  \n",
       "std dev             0.0675                 0.000   0.041708  "
      ]
     },
     "execution_count": 18,
     "metadata": {},
     "output_type": "execute_result"
    }
   ],
   "source": [
    "labels = class_scores.keys()\n",
    "\n",
    "for l in labels:\n",
    "    plt.scatter(range(0,len(class_scores[l])), class_scores[l], label=l)\n",
    "\n",
    "plt.legend(bbox_to_anchor=(1, 1))\n",
    "plt.grid(True)\n",
    "plt.title(\"Scores\")\n",
    "plt.show()\n",
    "\n",
    "pandas.DataFrame(dict([(x,desc_stats(class_scores[x])) for x in labels]))"
   ]
  },
  {
   "cell_type": "markdown",
   "metadata": {},
   "source": [
    "# Retraining\n",
    "\n",
    "Now that I've shown the scores,  I can add more images and retrain our classifier.  This is done much the same way the classifier is trainined to start with, and here I'm just using some more data and updating the classifier.  When its status is no longer `retraining` it is ready to go with that new data set learned.  "
   ]
  },
  {
   "cell_type": "code",
   "execution_count": 19,
   "metadata": {},
   "outputs": [
    {
     "data": {
      "text/plain": [
       "{'classes': [{'class': 'golden'}, {'class': 'beagle'}],\n",
       " 'classifier_id': 'POC_four_640205389',\n",
       " 'created': '2017-05-15T18:33:30.222Z',\n",
       " 'name': 'POC_four',\n",
       " 'owner': '58b61352-678c-44d1-9f40-40edf4ea8d19',\n",
       " 'status': 'retraining'}"
      ]
     },
     "execution_count": 19,
     "metadata": {},
     "output_type": "execute_result"
    }
   ],
   "source": [
    "updated_gr = PositiveClass(\"golden\", tempDir, [os.path.join(base_path_gr,x) for x in test_gr])\n",
    "\n",
    "update_gr_file = open(updated_gr.zipfile(),'rb')\n",
    "vr.update_classifier(classifier_id=my_classifier_id, golden_positive_examples=update_gr_file)"
   ]
  },
  {
   "cell_type": "code",
   "execution_count": null,
   "metadata": {
    "collapsed": true
   },
   "outputs": [],
   "source": []
  }
 ],
 "metadata": {
  "kernelspec": {
   "display_name": "Python 3",
   "language": "python",
   "name": "python3"
  },
  "language_info": {
   "codemirror_mode": {
    "name": "ipython",
    "version": 3
   },
   "file_extension": ".py",
   "mimetype": "text/x-python",
   "name": "python",
   "nbconvert_exporter": "python",
   "pygments_lexer": "ipython3",
   "version": "3.6.1"
  }
 },
 "nbformat": 4,
 "nbformat_minor": 2
}
