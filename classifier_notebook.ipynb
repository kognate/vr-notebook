{
 "cells": [
  {
   "cell_type": "code",
   "execution_count": 2,
   "metadata": {
    "collapsed": true
   },
   "outputs": [],
   "source": [
    "from sklearn.model_selection import train_test_split"
   ]
  },
  {
   "cell_type": "code",
   "execution_count": 3,
   "metadata": {
    "collapsed": true
   },
   "outputs": [],
   "source": [
    "from watson_developer_cloud import VisualRecognitionV3"
   ]
  },
  {
   "cell_type": "code",
   "execution_count": 4,
   "metadata": {
    "collapsed": true
   },
   "outputs": [],
   "source": [
    "from zipfile import ZipFile\n",
    "import os\n",
    "from tempfile import TemporaryDirectory\n",
    "import matplotlib.pyplot as plt\n",
    "import numpy as np\n",
    "import pandas"
   ]
  },
  {
   "cell_type": "code",
   "execution_count": 138,
   "metadata": {},
   "outputs": [],
   "source": [
    "API_KEY = os.getenv('API_KEY') or 'ENTER YOUR API KEY HERE'"
   ]
  },
  {
   "cell_type": "code",
   "execution_count": 144,
   "metadata": {},
   "outputs": [],
   "source": [
    "class PositiveClass:\n",
    "    def __init__(self, class_name, tmpdir, urls):\n",
    "        self.tmpdir = tmpdir\n",
    "        self.class_name = class_name\n",
    "        self.urls = urls\n",
    "        \n",
    "    def name(self):\n",
    "        return self.class_name\n",
    "\n",
    "    def path(self):\n",
    "        return os.path.join(self.tmpdir.name,\n",
    "                            \"{0}_positive_examples.zip\".format(self.name()))\n",
    "        \n",
    "    def zipfile(self):\n",
    "        output_zipfile_name = self.path()\n",
    "        if os.path.isfile(output_zipfile_name):\n",
    "            return output_zipfile_name\n",
    "        \n",
    "        with ZipFile(output_zipfile_name, mode=\"w\") as output_zip:\n",
    "            for image in self.urls:\n",
    "                with open(image, 'rb') as imagefile:\n",
    "                    arc_name = os.path.basename(image)\n",
    "                    output_zip.writestr(arc_name, imagefile.read())\n",
    "        return output_zipfile_name\n",
    "\n",
    "class NegativeClass(PositiveClass):\n",
    "    def __init__(self, tmpdir, urls):\n",
    "        super().__init__(\"negative\", tmpdir, urls)\n",
    "        \n",
    "    def path(self):\n",
    "        return os.path.join(self.tmpdir.name,\"negative_examples.zip\")\n",
    "    \n",
    "def desc_stats(numbers):\n",
    "    return { 'std dev': np.std(numbers),\n",
    "    'mean': np.mean(numbers),\n",
    "     'min': np.min(numbers),\n",
    "     'max': np.max(numbers)\n",
    "    }"
   ]
  },
  {
   "cell_type": "code",
   "execution_count": 56,
   "metadata": {
    "collapsed": true
   },
   "outputs": [],
   "source": [
    "tempDir = TemporaryDirectory()"
   ]
  },
  {
   "cell_type": "code",
   "execution_count": 57,
   "metadata": {},
   "outputs": [
    {
     "data": {
      "text/plain": [
       "['beagle', 'goldenretriever', 'negatives']"
      ]
     },
     "execution_count": 57,
     "metadata": {},
     "output_type": "execute_result"
    }
   ],
   "source": [
    "os.listdir(\"images\")"
   ]
  },
  {
   "cell_type": "code",
   "execution_count": 225,
   "metadata": {},
   "outputs": [],
   "source": [
    "#http://scikit-learn.org/stable/modules/generated/sklearn.model_selection.train_test_split.html\n",
    "\n",
    "base_path_gr = \"./images/goldenretriever/\"\n",
    "train_gr, test_gr = train_test_split(os.listdir(base_path_gr))\n",
    "test_gr_images = [os.path.join(base_path_gr,x) for x in test_gr]\n",
    "\n",
    "base_path_beagle = \"./images/beagle/\"\n",
    "train_beagle, test_beagle = train_test_split(os.listdir(base_path_beagle))\n",
    "test_beagle_images = [os.path.join(base_path_beagle,x) for x in test_beagle]\n",
    "\n",
    "base_path_negative = \"./images/negatives/\"\n",
    "train_negative = os.listdir(base_path_negative)\n",
    "\n",
    "gr = PositiveClass(\"golden\", tempDir, [os.path.join(base_path_gr,x) for x in train_gr])\n",
    "beagle = PositiveClass(\"beagle\", tempDir, [os.path.join(base_path_beagle,x) for x in train_beagle])\n",
    "\n",
    "negative = NegativeClass(tempDir, [os.path.join(base_path_negative,x) for x in train_negative])"
   ]
  },
  {
   "cell_type": "code",
   "execution_count": 111,
   "metadata": {},
   "outputs": [
    {
     "data": {
      "text/plain": [
       "{'classifiers': [{'classifier_id': 'A_1693693550',\n",
       "   'name': 'A',\n",
       "   'status': 'ready'},\n",
       "  {'classifier_id': 'InsuranceClaims_678592656',\n",
       "   'name': 'Insurance Claims',\n",
       "   'status': 'ready'},\n",
       "  {'classifier_id': 'integrationtestjavasdk_926252309',\n",
       "   'name': 'integration-test-java-sdk',\n",
       "   'status': 'ready'},\n",
       "  {'classifier_id': 'MoleskineTypes_1384714916',\n",
       "   'name': 'Moleskine Types',\n",
       "   'status': 'ready'},\n",
       "  {'classifier_id': 'DogBreeds_1068239630',\n",
       "   'name': 'Dog Breeds',\n",
       "   'status': 'ready'},\n",
       "  {'classifier_id': 'DogBreeds_1393822968',\n",
       "   'name': 'Dog Breeds',\n",
       "   'status': 'ready'},\n",
       "  {'classifier_id': 'SatelliteImagery_1999370438',\n",
       "   'name': 'Satellite Imagery',\n",
       "   'status': 'ready'},\n",
       "  {'classifier_id': 'InsuranceClaims_719855639',\n",
       "   'name': 'Insurance Claims',\n",
       "   'status': 'ready'},\n",
       "  {'classifier_id': 'InsuranceClaims_2091169112',\n",
       "   'name': 'Insurance Claims',\n",
       "   'status': 'ready'},\n",
       "  {'classifier_id': 'DogBreeds_1746679274',\n",
       "   'name': 'Dog Breeds',\n",
       "   'status': 'ready'},\n",
       "  {'classifier_id': 'InsuranceClaims_847291968',\n",
       "   'name': 'Insurance Claims',\n",
       "   'status': 'ready'},\n",
       "  {'classifier_id': 'pwc_1152700139', 'name': 'pwc', 'status': 'ready'},\n",
       "  {'classifier_id': 'InsuranceClaims_1783814787',\n",
       "   'name': 'Insurance Claims',\n",
       "   'status': 'ready'},\n",
       "  {'classifier_id': 'POC_two_339503406', 'name': 'POC_two', 'status': 'ready'},\n",
       "  {'classifier_id': 'ISTest_151456679', 'name': 'IS Test', 'status': 'ready'},\n",
       "  {'classifier_id': 'DogBreeds_873033721',\n",
       "   'name': 'Dog Breeds',\n",
       "   'status': 'ready'},\n",
       "  {'classifier_id': 'DogBreeds_951633172',\n",
       "   'name': 'Dog Breeds',\n",
       "   'status': 'ready'},\n",
       "  {'classifier_id': 'Plant_1628460987', 'name': 'Plant', 'status': 'ready'},\n",
       "  {'classifier_id': 'SatelliteImagery_464026321',\n",
       "   'name': 'Satellite Imagery',\n",
       "   'status': 'ready'},\n",
       "  {'classifier_id': 'DrinkCups_259744016',\n",
       "   'name': 'Drink Cups',\n",
       "   'status': 'ready'},\n",
       "  {'classifier_id': 'InsuranceClaims_677951496',\n",
       "   'name': 'Insurance Claims',\n",
       "   'status': 'failed'},\n",
       "  {'classifier_id': 'test22222222222222222222222222222222222222_131366051',\n",
       "   'name': 'test22222222222222222222222222222222222222',\n",
       "   'status': 'ready'},\n",
       "  {'classifier_id': 'DogBreeds_1612362507',\n",
       "   'name': 'Dog Breeds',\n",
       "   'status': 'ready'},\n",
       "  {'classifier_id': 'POC_one_2092200629',\n",
       "   'name': 'POC_one',\n",
       "   'status': 'failed'},\n",
       "  {'classifier_id': 'integrationtestjavasdk_1345258259',\n",
       "   'name': 'integration-test-java-sdk',\n",
       "   'status': 'ready'},\n",
       "  {'classifier_id': 'DogBreeds_165574603',\n",
       "   'name': 'Dog Breeds',\n",
       "   'status': 'ready'},\n",
       "  {'classifier_id': 'DogBreeds_136354505',\n",
       "   'name': 'Dog Breeds',\n",
       "   'status': 'ready'},\n",
       "  {'classifier_id': 'InsuranceClaims_817089843',\n",
       "   'name': 'Insurance Claims',\n",
       "   'status': 'ready'},\n",
       "  {'classifier_id': 'Drinks_346666719', 'name': 'Drinks', 'status': 'ready'},\n",
       "  {'classifier_id': 'DogBreeds_663215465',\n",
       "   'name': 'Dog Breeds',\n",
       "   'status': 'ready'},\n",
       "  {'classifier_id': 'integrationtestjavasdk_1713797621',\n",
       "   'name': 'integration-test-java-sdk',\n",
       "   'status': 'ready'},\n",
       "  {'classifier_id': 'DogBreeds_1965866994',\n",
       "   'name': 'Dog Breeds',\n",
       "   'status': 'ready'},\n",
       "  {'classifier_id': 'DogBreeds_1679443197',\n",
       "   'name': 'Dog Breeds',\n",
       "   'status': 'ready'},\n",
       "  {'classifier_id': 'SatelliteImagery_1825393335',\n",
       "   'name': 'Satellite Imagery',\n",
       "   'status': 'ready'},\n",
       "  {'classifier_id': 'happysad_555560415',\n",
       "   'name': 'happy sad?',\n",
       "   'status': 'ready'},\n",
       "  {'classifier_id': 'DogBreeds_1530154578',\n",
       "   'name': 'Dog Breeds',\n",
       "   'status': 'ready'},\n",
       "  {'classifier_id': 'DogBreeds_224744698',\n",
       "   'name': 'Dog Breeds',\n",
       "   'status': 'ready'},\n",
       "  {'classifier_id': 'DogBreeds_766159502',\n",
       "   'name': 'Dog Breeds',\n",
       "   'status': 'ready'},\n",
       "  {'classifier_id': 'SatelliteImagery_1777151058',\n",
       "   'name': 'Satellite Imagery',\n",
       "   'status': 'ready'},\n",
       "  {'classifier_id': 'InsuranceClaims_17941643',\n",
       "   'name': 'Insurance Claims',\n",
       "   'status': 'failed'},\n",
       "  {'classifier_id': 'openthedoor_63903526',\n",
       "   'name': 'openthedoor',\n",
       "   'status': 'ready'},\n",
       "  {'classifier_id': 'InsuranceClaims_1476531008',\n",
       "   'name': 'Insurance Claims',\n",
       "   'status': 'failed'},\n",
       "  {'classifier_id': 'openthedoor_2143884776',\n",
       "   'name': 'openthedoor',\n",
       "   'status': 'failed'}]}"
      ]
     },
     "execution_count": 111,
     "metadata": {},
     "output_type": "execute_result"
    }
   ],
   "source": [
    "vr = VisualRecognitionV3(version='2017-01-31', api_key=API_KEY)\n",
    "vr.list_classifiers()"
   ]
  },
  {
   "cell_type": "code",
   "execution_count": 80,
   "metadata": {},
   "outputs": [],
   "source": [
    "grzip = open(gr.zipfile(), 'rb')\n",
    "beaglezip = open(beagle.zipfile(), 'rb')\n",
    "negativezip = open(negative.zipfile(), 'rb')\n",
    "\n",
    "created_id = vr.create_classifier(golden_positive_examples=grzip,\n",
    "                                  beagle_positive_examples=beaglezip,\n",
    "                                  negative_examples=negativezip,\n",
    "                                  name=\"POC_two\")"
   ]
  },
  {
   "cell_type": "code",
   "execution_count": 91,
   "metadata": {},
   "outputs": [
    {
     "data": {
      "text/plain": [
       "{'classes': [{'class': 'golden'}, {'class': 'beagle'}],\n",
       " 'classifier_id': 'POC_two_339503406',\n",
       " 'created': '2017-05-15T03:11:36.664Z',\n",
       " 'name': 'POC_two',\n",
       " 'owner': '58b61352-678c-44d1-9f40-40edf4ea8d19',\n",
       " 'status': 'training'}"
      ]
     },
     "execution_count": 91,
     "metadata": {},
     "output_type": "execute_result"
    }
   ],
   "source": [
    "my_classifier_id = created_id[\"classifier_id\"]\n",
    "\n",
    "while vr.get_classifier(created_id[\"classifier_id\"])['status'] == 'training':\n",
    "    sleep(10)\n",
    "\n",
    "created_id"
   ]
  },
  {
   "cell_type": "code",
   "execution_count": 226,
   "metadata": {},
   "outputs": [
    {
     "name": "stdout",
     "output_type": "stream",
     "text": [
      "CPU times: user 296 ms, sys: 26.3 ms, total: 322 ms\n",
      "Wall time: 37.7 s\n"
     ]
    }
   ],
   "source": [
    "%%time\n",
    "test_results = []\n",
    "\n",
    "test_image_files = test_beagle_images\n",
    "\n",
    "for image_file in test_image_files:\n",
    "    with open(image_file,'rb') as ifile:\n",
    "        result = vr.classify(images_file=ifile, classifier_ids=[my_classifier_id,'default'],threshold=0.8)\n",
    "        test_results.append(result)"
   ]
  },
  {
   "cell_type": "code",
   "execution_count": 218,
   "metadata": {},
   "outputs": [
    {
     "name": "stdout",
     "output_type": "stream",
     "text": [
      "{'custom_classes': 2, 'images': [{'classifiers': [{'classes': [{'class': 'beagle', 'score': 0.919257}], 'classifier_id': 'POC_two_339503406', 'name': 'POC_two'}, {'classes': [{'class': 'beagle dog', 'score': 0.872, 'type_hierarchy': '/domestic animal/beagle dog'}, {'class': 'dog', 'score': 0.961}, {'class': 'domestic animal', 'score': 0.961}, {'class': 'animal', 'score': 0.961}, {'class': 'tan color', 'score': 0.995}], 'classifier_id': 'default', 'name': 'default'}], 'image': './images/beagle/beagle-1069765_960_720.jpg'}], 'images_processed': 1}\n"
     ]
    }
   ],
   "source": [
    "with open(test_image_files[0], 'rb') as ifile:\n",
    "    print(vr.classify(images_file=ifile, classifier_ids=[my_classifier_id,'default'],threshold=0.8))"
   ]
  },
  {
   "cell_type": "code",
   "execution_count": 227,
   "metadata": {},
   "outputs": [],
   "source": [
    "class_scores = {}\n",
    "# DANGER WILL ROBINSON:  the following is a set of\n",
    "# actions that flatten the list of classes returned by the classifiers\n",
    "scores_list = list(itertools.chain(*[m['classes'] \n",
    "                       for m \n",
    "                       in list(itertools.chain(*[z[0]['classifiers'] \n",
    "                                                 for z \n",
    "                                                 in [u['images'] \n",
    "                                                     for u \n",
    "                                                     in test_results]]))]))\n",
    "for y in scores_list:\n",
    "    if y['class'] in class_scores:\n",
    "        class_scores[y['class']].append(y['score'])\n",
    "    else:\n",
    "        class_scores[y['class']]=[y['score']]"
   ]
  },
  {
   "cell_type": "code",
   "execution_count": 228,
   "metadata": {},
   "outputs": [
    {
     "data": {
      "image/png": "[encoded data removed]",
      "text/plain": [
       "<matplotlib.figure.Figure at 0x115642240>"
      ]
     },
     "metadata": {},
     "output_type": "display_data"
    },
    {
     "data": {
      "text/html": [
       "<div>\n",
       "<style>\n",
       "    .dataframe thead tr:only-child th {\n",
       "        text-align: right;\n",
       "    }\n",
       "\n",
       "    .dataframe thead th {\n",
       "        text-align: left;\n",
       "    }\n",
       "\n",
       "    .dataframe tbody tr th {\n",
       "        vertical-align: top;\n",
       "    }\n",
       "</style>\n",
       "<table border=\"1\" class=\"dataframe\">\n",
       "  <thead>\n",
       "    <tr style=\"text-align: right;\">\n",
       "      <th></th>\n",
       "      <th>animal</th>\n",
       "      <th>azure color</th>\n",
       "      <th>basset hound dog</th>\n",
       "      <th>beagle</th>\n",
       "      <th>beagle dog</th>\n",
       "      <th>coal black color</th>\n",
       "      <th>dog</th>\n",
       "      <th>domestic animal</th>\n",
       "      <th>hound dog</th>\n",
       "      <th>light brown color</th>\n",
       "      <th>reddish orange color</th>\n",
       "      <th>tan color</th>\n",
       "    </tr>\n",
       "  </thead>\n",
       "  <tbody>\n",
       "    <tr>\n",
       "      <th>max</th>\n",
       "      <td>0.974000</td>\n",
       "      <td>1.000000</td>\n",
       "      <td>0.89</td>\n",
       "      <td>0.923970</td>\n",
       "      <td>0.960000</td>\n",
       "      <td>0.854</td>\n",
       "      <td>0.974000</td>\n",
       "      <td>0.974000</td>\n",
       "      <td>0.91</td>\n",
       "      <td>0.8630</td>\n",
       "      <td>0.886</td>\n",
       "      <td>0.998000</td>\n",
       "    </tr>\n",
       "    <tr>\n",
       "      <th>mean</th>\n",
       "      <td>0.947846</td>\n",
       "      <td>0.909250</td>\n",
       "      <td>0.89</td>\n",
       "      <td>0.895846</td>\n",
       "      <td>0.896333</td>\n",
       "      <td>0.854</td>\n",
       "      <td>0.947769</td>\n",
       "      <td>0.947769</td>\n",
       "      <td>0.91</td>\n",
       "      <td>0.8475</td>\n",
       "      <td>0.886</td>\n",
       "      <td>0.963500</td>\n",
       "    </tr>\n",
       "    <tr>\n",
       "      <th>min</th>\n",
       "      <td>0.890000</td>\n",
       "      <td>0.834000</td>\n",
       "      <td>0.89</td>\n",
       "      <td>0.860347</td>\n",
       "      <td>0.818000</td>\n",
       "      <td>0.854</td>\n",
       "      <td>0.890000</td>\n",
       "      <td>0.890000</td>\n",
       "      <td>0.91</td>\n",
       "      <td>0.8320</td>\n",
       "      <td>0.886</td>\n",
       "      <td>0.884000</td>\n",
       "    </tr>\n",
       "    <tr>\n",
       "      <th>std dev</th>\n",
       "      <td>0.024961</td>\n",
       "      <td>0.061682</td>\n",
       "      <td>0.00</td>\n",
       "      <td>0.018282</td>\n",
       "      <td>0.044833</td>\n",
       "      <td>0.000</td>\n",
       "      <td>0.024934</td>\n",
       "      <td>0.024934</td>\n",
       "      <td>0.00</td>\n",
       "      <td>0.0155</td>\n",
       "      <td>0.000</td>\n",
       "      <td>0.042003</td>\n",
       "    </tr>\n",
       "  </tbody>\n",
       "</table>\n",
       "</div>"
      ],
      "text/plain": [
       "           animal  azure color  basset hound dog    beagle  beagle dog  \\\n",
       "max      0.974000     1.000000              0.89  0.923970    0.960000   \n",
       "mean     0.947846     0.909250              0.89  0.895846    0.896333   \n",
       "min      0.890000     0.834000              0.89  0.860347    0.818000   \n",
       "std dev  0.024961     0.061682              0.00  0.018282    0.044833   \n",
       "\n",
       "         coal black color       dog  domestic animal  hound dog  \\\n",
       "max                 0.854  0.974000         0.974000       0.91   \n",
       "mean                0.854  0.947769         0.947769       0.91   \n",
       "min                 0.854  0.890000         0.890000       0.91   \n",
       "std dev             0.000  0.024934         0.024934       0.00   \n",
       "\n",
       "         light brown color  reddish orange color  tan color  \n",
       "max                 0.8630                 0.886   0.998000  \n",
       "mean                0.8475                 0.886   0.963500  \n",
       "min                 0.8320                 0.886   0.884000  \n",
       "std dev             0.0155                 0.000   0.042003  "
      ]
     },
     "execution_count": 228,
     "metadata": {},
     "output_type": "execute_result"
    }
   ],
   "source": [
    "labels = class_scores.keys()\n",
    "\n",
    "for l in labels:\n",
    "    plt.scatter(range(0,len(class_scores[l])), class_scores[l], label=l)\n",
    "\n",
    "plt.legend(bbox_to_anchor=(1, 1))\n",
    "plt.grid(True)\n",
    "plt.title(\"Scores\")\n",
    "plt.show()\n",
    "\n",
    "pandas.DataFrame(dict([(x,desc_stats(class_scores[x])) for x in labels]))"
   ]
  },
  {
   "cell_type": "code",
   "execution_count": 229,
   "metadata": {},
   "outputs": [
    {
     "data": {
      "text/plain": [
       "{'classes': [{'class': 'golden'}, {'class': 'beagle'}],\n",
       " 'classifier_id': 'POC_two_339503406',\n",
       " 'created': '2017-05-15T03:11:36.664Z',\n",
       " 'name': 'POC_two',\n",
       " 'owner': '58b61352-678c-44d1-9f40-40edf4ea8d19',\n",
       " 'status': 'retraining'}"
      ]
     },
     "execution_count": 229,
     "metadata": {},
     "output_type": "execute_result"
    }
   ],
   "source": [
    "updated_gr = PositiveClass(\"golden\", tempDir, [os.path.join(base_path_gr,x) for x in test_gr])\n",
    "\n",
    "update_gr_file = open(updated_gr.zipfile(),'rb')\n",
    "vr.update_classifier(classifier_id=my_classifier_id, golden_positive_examples=update_gr_file)"
   ]
  },
  {
   "cell_type": "code",
   "execution_count": null,
   "metadata": {
    "collapsed": true
   },
   "outputs": [],
   "source": []
  }
 ],
 "metadata": {
  "kernelspec": {
   "display_name": "Python 3",
   "language": "python",
   "name": "python3"
  },
  "language_info": {
   "codemirror_mode": {
    "name": "ipython",
    "version": 3
   },
   "file_extension": ".py",
   "mimetype": "text/x-python",
   "name": "python",
   "nbconvert_exporter": "python",
   "pygments_lexer": "ipython3",
   "version": "3.6.1"
  }
 },
 "nbformat": 4,
 "nbformat_minor": 2
}
